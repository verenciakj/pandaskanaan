{
 "cells": [
  {
   "cell_type": "code",
   "execution_count": 1,
   "id": "29c6ecc8-c5c3-4c55-9f74-75191ba63a7b",
   "metadata": {},
   "outputs": [
    {
     "data": {
      "text/html": [
       "<div>\n",
       "<style scoped>\n",
       "    .dataframe tbody tr th:only-of-type {\n",
       "        vertical-align: middle;\n",
       "    }\n",
       "\n",
       "    .dataframe tbody tr th {\n",
       "        vertical-align: top;\n",
       "    }\n",
       "\n",
       "    .dataframe thead th {\n",
       "        text-align: right;\n",
       "    }\n",
       "</style>\n",
       "<table border=\"1\" class=\"dataframe\">\n",
       "  <thead>\n",
       "    <tr style=\"text-align: right;\">\n",
       "      <th></th>\n",
       "      <th>Student-Name</th>\n",
       "      <th>Religion</th>\n",
       "      <th>Gender</th>\n",
       "    </tr>\n",
       "  </thead>\n",
       "  <tbody>\n",
       "    <tr>\n",
       "      <th>0</th>\n",
       "      <td>Adypta Yulius Pangestu</td>\n",
       "      <td>KRISTEN</td>\n",
       "      <td>L</td>\n",
       "    </tr>\n",
       "    <tr>\n",
       "      <th>1</th>\n",
       "      <td>Amanda Syallom Budiono</td>\n",
       "      <td>KRISTEN</td>\n",
       "      <td>P</td>\n",
       "    </tr>\n",
       "    <tr>\n",
       "      <th>2</th>\n",
       "      <td>Andhika Bawimbang</td>\n",
       "      <td>KRISTEN</td>\n",
       "      <td>L</td>\n",
       "    </tr>\n",
       "    <tr>\n",
       "      <th>3</th>\n",
       "      <td>Arron Hartawan Gojaya</td>\n",
       "      <td>KATOLIK</td>\n",
       "      <td>L</td>\n",
       "    </tr>\n",
       "    <tr>\n",
       "      <th>4</th>\n",
       "      <td>Axel Nathaniel Tanujaya</td>\n",
       "      <td>KATOLIK</td>\n",
       "      <td>L</td>\n",
       "    </tr>\n",
       "  </tbody>\n",
       "</table>\n",
       "</div>"
      ],
      "text/plain": [
       "              Student-Name Religion Gender\n",
       "0   Adypta Yulius Pangestu  KRISTEN      L\n",
       "1   Amanda Syallom Budiono  KRISTEN      P\n",
       "2        Andhika Bawimbang  KRISTEN      L\n",
       "3    Arron Hartawan Gojaya  KATOLIK      L\n",
       "4  Axel Nathaniel Tanujaya  KATOLIK      L"
      ]
     },
     "execution_count": 1,
     "metadata": {},
     "output_type": "execute_result"
    }
   ],
   "source": [
    "import pandas as pd\n",
    "import numpy as np\n",
    "import matplotlib as plt\n",
    "import seaborn as sns\n",
    "\n",
    "dataframe = pd.read_csv('smakanaan.csv')\n",
    "dataframe.head()"
   ]
  },
  {
   "cell_type": "code",
   "execution_count": 2,
   "id": "0409293c-b99c-4259-b5ed-a176edd03a8f",
   "metadata": {},
   "outputs": [
    {
     "name": "stdout",
     "output_type": "stream",
     "text": [
      "<class 'pandas.core.frame.DataFrame'>\n",
      "RangeIndex: 28 entries, 0 to 27\n",
      "Data columns (total 3 columns):\n",
      " #   Column        Non-Null Count  Dtype \n",
      "---  ------        --------------  ----- \n",
      " 0   Student-Name  28 non-null     object\n",
      " 1   Religion      28 non-null     object\n",
      " 2   Gender        28 non-null     object\n",
      "dtypes: object(3)\n",
      "memory usage: 804.0+ bytes\n"
     ]
    }
   ],
   "source": [
    "dataframe.info()"
   ]
  },
  {
   "cell_type": "code",
   "execution_count": 3,
   "id": "c0005eb6-5498-4871-9af4-6651ba910e18",
   "metadata": {},
   "outputs": [
    {
     "name": "stdout",
     "output_type": "stream",
     "text": [
      "Index(['Student-Name', 'Religion', 'Gender'], dtype='object')\n"
     ]
    }
   ],
   "source": [
    "print(dataframe.columns)"
   ]
  },
  {
   "cell_type": "code",
   "execution_count": 4,
   "id": "0c32e070-7456-4c7b-83e0-678ce050c25f",
   "metadata": {},
   "outputs": [
    {
     "data": {
      "text/html": [
       "<div>\n",
       "<style scoped>\n",
       "    .dataframe tbody tr th:only-of-type {\n",
       "        vertical-align: middle;\n",
       "    }\n",
       "\n",
       "    .dataframe tbody tr th {\n",
       "        vertical-align: top;\n",
       "    }\n",
       "\n",
       "    .dataframe thead th {\n",
       "        text-align: right;\n",
       "    }\n",
       "</style>\n",
       "<table border=\"1\" class=\"dataframe\">\n",
       "  <thead>\n",
       "    <tr style=\"text-align: right;\">\n",
       "      <th></th>\n",
       "      <th>Student-Name</th>\n",
       "      <th>Religion</th>\n",
       "      <th>Gender</th>\n",
       "    </tr>\n",
       "  </thead>\n",
       "  <tbody>\n",
       "    <tr>\n",
       "      <th>0</th>\n",
       "      <td>0</td>\n",
       "      <td>2</td>\n",
       "      <td>0</td>\n",
       "    </tr>\n",
       "    <tr>\n",
       "      <th>1</th>\n",
       "      <td>1</td>\n",
       "      <td>2</td>\n",
       "      <td>1</td>\n",
       "    </tr>\n",
       "    <tr>\n",
       "      <th>2</th>\n",
       "      <td>2</td>\n",
       "      <td>2</td>\n",
       "      <td>0</td>\n",
       "    </tr>\n",
       "    <tr>\n",
       "      <th>3</th>\n",
       "      <td>3</td>\n",
       "      <td>1</td>\n",
       "      <td>0</td>\n",
       "    </tr>\n",
       "    <tr>\n",
       "      <th>4</th>\n",
       "      <td>4</td>\n",
       "      <td>1</td>\n",
       "      <td>0</td>\n",
       "    </tr>\n",
       "  </tbody>\n",
       "</table>\n",
       "</div>"
      ],
      "text/plain": [
       "   Student-Name  Religion  Gender\n",
       "0             0         2       0\n",
       "1             1         2       1\n",
       "2             2         2       0\n",
       "3             3         1       0\n",
       "4             4         1       0"
      ]
     },
     "execution_count": 4,
     "metadata": {},
     "output_type": "execute_result"
    }
   ],
   "source": [
    "from sklearn.preprocessing import LabelEncoder\n",
    "import pandas as pd\n",
    "#copydata\n",
    "dataframe = pd.read_csv('smakanaan.csv')\n",
    "dataframe_int= dataframe.copy()\n",
    "#membuat variabel baru\n",
    "encoder=LabelEncoder()\n",
    "\n",
    "categorical_data= ['Student-Name','Gender','Religion']\n",
    "\n",
    "for kolom in categorical_data:\n",
    "    dataframe_int[kolom]=encoder.fit_transform(dataframe[kolom])\n",
    "\n",
    "dataframe_int.head()"
   ]
  },
  {
   "cell_type": "code",
   "execution_count": 5,
   "id": "95345a44-7d32-403a-87b1-426f809e33f2",
   "metadata": {},
   "outputs": [
    {
     "name": "stdout",
     "output_type": "stream",
     "text": [
      "Student-Name [ 0  1  2  3  4  5  6  7  8  9 10 11 12 13 14 15 16 17 18 19 20 21 22 23\n",
      " 24 25 26 27]\n",
      "Gender [0 1]\n",
      "Religion [2 1 0]\n"
     ]
    }
   ],
   "source": [
    "for kolom in categorical_data:\n",
    "    print(kolom, dataframe_int[kolom].unique())"
   ]
  },
  {
   "cell_type": "code",
   "execution_count": 6,
   "id": "5fe5ee8c-8e0c-471d-afba-438a2d0f0b30",
   "metadata": {},
   "outputs": [
    {
     "name": "stdout",
     "output_type": "stream",
     "text": [
      "Student-Name ['Adypta Yulius Pangestu' 'Amanda Syallom Budiono' 'Andhika Bawimbang'\n",
      " 'Arron Hartawan Gojaya' 'Axel Nathaniel Tanujaya' 'Beverly Aurelia Putri'\n",
      " 'Carsson Angellou Jevoncia Gow' 'Celine Leonita Ong'\n",
      " 'Chelsea Natalia Thamrin' 'Cindy Oetama' 'Darren Winata Sugian'\n",
      " 'Erica Patricia Susanto' 'Hananya Christian' 'Hillary Reina Cen'\n",
      " 'Jenifer Angeline Rimba' 'Joaquin Isabel Setiawan'\n",
      " 'Joshua Marchelino Pangka' 'Kevin Fanly' 'Kevin Jonathan Saan'\n",
      " 'Marvelius' 'Michael Anarta Tarigan' 'Perbyna Haffana Sinulingga'\n",
      " 'Revalyn Sutanto' 'Santika Hillary Kornain'\n",
      " 'Sellyna Janitta Sotthi Surya' 'Stephanie Keisya Priscilia'\n",
      " 'Vincent Nathanael Wijaya' 'Wilhelmus Zakharia Bimantara']\n",
      "Gender ['L' 'P']\n",
      "Religion ['KRISTEN' 'KATOLIK' 'BUDDHA']\n"
     ]
    }
   ],
   "source": [
    "for kolom in categorical_data:\n",
    "    print(kolom, dataframe[kolom].unique())"
   ]
  },
  {
   "cell_type": "code",
   "execution_count": 7,
   "id": "3643e7a0-7210-46d6-afbd-258801b2560c",
   "metadata": {},
   "outputs": [
    {
     "data": {
      "text/html": [
       "<div>\n",
       "<style scoped>\n",
       "    .dataframe tbody tr th:only-of-type {\n",
       "        vertical-align: middle;\n",
       "    }\n",
       "\n",
       "    .dataframe tbody tr th {\n",
       "        vertical-align: top;\n",
       "    }\n",
       "\n",
       "    .dataframe thead th {\n",
       "        text-align: right;\n",
       "    }\n",
       "</style>\n",
       "<table border=\"1\" class=\"dataframe\">\n",
       "  <thead>\n",
       "    <tr style=\"text-align: right;\">\n",
       "      <th></th>\n",
       "      <th>Student-Name</th>\n",
       "      <th>Religion</th>\n",
       "      <th>Gender</th>\n",
       "    </tr>\n",
       "  </thead>\n",
       "  <tbody>\n",
       "    <tr>\n",
       "      <th>Student-Name</th>\n",
       "      <td>1.000000</td>\n",
       "      <td>-0.019334</td>\n",
       "      <td>0.079584</td>\n",
       "    </tr>\n",
       "    <tr>\n",
       "      <th>Religion</th>\n",
       "      <td>-0.019334</td>\n",
       "      <td>1.000000</td>\n",
       "      <td>-0.234261</td>\n",
       "    </tr>\n",
       "    <tr>\n",
       "      <th>Gender</th>\n",
       "      <td>0.079584</td>\n",
       "      <td>-0.234261</td>\n",
       "      <td>1.000000</td>\n",
       "    </tr>\n",
       "  </tbody>\n",
       "</table>\n",
       "</div>"
      ],
      "text/plain": [
       "              Student-Name  Religion    Gender\n",
       "Student-Name      1.000000 -0.019334  0.079584\n",
       "Religion         -0.019334  1.000000 -0.234261\n",
       "Gender            0.079584 -0.234261  1.000000"
      ]
     },
     "execution_count": 7,
     "metadata": {},
     "output_type": "execute_result"
    }
   ],
   "source": [
    "dataframe_int.corr()"
   ]
  },
  {
   "cell_type": "code",
   "execution_count": 8,
   "id": "27e57448-ace2-4a1a-ab03-c53064db2b27",
   "metadata": {},
   "outputs": [
    {
     "data": {
      "image/png": "[encoded data removed]",
      "text/plain": [
       "<Figure size 1000x800 with 2 Axes>"
      ]
     },
     "metadata": {},
     "output_type": "display_data"
    }
   ],
   "source": [
    "import matplotlib.pyplot as plt\n",
    "import seaborn as sns\n",
    "\n",
    "plt.figure(figsize=(10,8))\n",
    "plt.title('Heatmap Matriks Korelasi')\n",
    "sns.heatmap(dataframe_int.corr(), annot=True, linewidths=3)\n",
    "plt.show()"
   ]
  },
  {
   "cell_type": "code",
   "execution_count": 10,
   "id": "b376009c-d3c5-467c-bb27-0dfe071af958",
   "metadata": {},
   "outputs": [],
   "source": [
    "import matplotlib.pyplot as plt\n",
    "import pandas as pd\n",
    "from sklearn.preprocessing import LabelEncoder\n",
    "#copydata\n",
    "dataframe = pd.read_csv('smakanaan.csv')\n",
    "dataframe_int= dataframe.copy()\n",
    "#membuat variabel baru\n",
    "encoder=LabelEncoder()\n",
    "\n",
    "categorical_data= ['Student-Name','Religion','Gender']\n",
    "\n",
    "for kolom in categorical_data:\n",
    "    dataframe_int[kolom]=encoder.fit_transform(dataframe[kolom])\n",
    "\n",
    "def distribusi():\n",
    "    fig,axes = plt.subplots(nrows=2,ncols=3,figsize=(12,8))\n",
    "    plt.suptitle('Distribusi',fontsize=24)\n",
    "    \n",
    "    def kolom_generator():\n",
    "        for kolom in dataframe_int:\n",
    "            yield kolom\n",
    "    kolom = kolom_generator()\n",
    "\n",
    "    for i in range(0,1):\n",
    "        for j in range(0,3):\n",
    "            k = next(kolom)\n",
    "            dataframe_int[k].plot(kind='hist',ax=axes[i,j])\n",
    "            axes[i,j].set_title(k)\n",
    "plt.show()"
   ]
  },
  {
   "cell_type": "code",
   "execution_count": 11,
   "id": "619b7bae-0a05-4de8-bbe0-a5fae414e616",
   "metadata": {},
   "outputs": [
    {
     "data": {
      "image/png": "[encoded data removed]",
      "text/plain": [
       "<Figure size 1200x800 with 6 Axes>"
      ]
     },
     "metadata": {},
     "output_type": "display_data"
    }
   ],
   "source": [
    "import pandas as pd\n",
    "from sklearn.preprocessing import LabelEncoder\n",
    "#copydata\n",
    "dataframe = pd.read_csv('smakanaan.csv')\n",
    "dataframe_int= dataframe.copy()\n",
    "#membuat variabel baru\n",
    "encoder=LabelEncoder()\n",
    "\n",
    "categorical_data= ['Student-Name','Religion','Gender']\n",
    "\n",
    "for kolom in categorical_data:\n",
    "    dataframe_int[kolom]=encoder.fit_transform(dataframe[kolom])\n",
    "\n",
    "distribusi()"
   ]
  },
  {
   "cell_type": "code",
   "execution_count": null,
   "id": "b5a859bf-5da8-450f-ade4-7c4c20ef3ab8",
   "metadata": {},
   "outputs": [],
   "source": []
  }
 ],
 "metadata": {
  "kernelspec": {
   "display_name": "Python 3 (ipykernel)",
   "language": "python",
   "name": "python3"
  },
  "language_info": {
   "codemirror_mode": {
    "name": "ipython",
    "version": 3
   },
   "file_extension": ".py",
   "mimetype": "text/x-python",
   "name": "python",
   "nbconvert_exporter": "python",
   "pygments_lexer": "ipython3",
   "version": "3.12.6"
  }
 },
 "nbformat": 4,
 "nbformat_minor": 5
}
